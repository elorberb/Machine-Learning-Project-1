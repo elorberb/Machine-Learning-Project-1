{
  "nbformat": 4,
  "nbformat_minor": 0,
  "metadata": {
    "colab": {
      "name": "314977596_208816827.ipynb",
      "provenance": [],
      "collapsed_sections": []
    },
    "kernelspec": {
      "display_name": "Python 3",
      "language": "python",
      "name": "python3"
    },
    "language_info": {
      "codemirror_mode": {
        "name": "ipython",
        "version": 3
      },
      "file_extension": ".py",
      "mimetype": "text/x-python",
      "name": "python",
      "nbconvert_exporter": "python",
      "pygments_lexer": "ipython3",
      "version": "3.7.6"
    }
  },
  "cells": [
    {
      "cell_type": "markdown",
      "metadata": {
        "id": "Uq_3t_tluNmU"
      },
      "source": [
        "# Naive Bayes"
      ]
    },
    {
      "cell_type": "markdown",
      "metadata": {
        "id": "Rum6hqi0I2V1"
      },
      "source": [
        "## Write your id numbers and names here\n",
        "\n",
        "\n",
        "1.   Etay Lorberboym - 314977596\n",
        "2.   Peleg Gitnik - 208816827\n"
      ]
    },
    {
      "cell_type": "markdown",
      "metadata": {
        "id": "TQVMUZkQHlm2"
      },
      "source": [
        "## 1. Classifying Digits\n",
        "In this part we will test digits classification on the MNIST dataset, using Bernoulli Naive Bayes (a generative model), in contrast to the Multivariate Logistic Regression (a discriminative model) we used before.\n",
        "\n",
        "The MNIST dataset contains 28x28 grayscale images of handwritten digits between 0 and 9 (10 classes). For mathmatical analysis clarity, and for matching expected API, each image faltten to create a 1D array with 784 elements."
      ]
    },
    {
      "cell_type": "markdown",
      "metadata": {
        "id": "Cjwjk6pzLE-y"
      },
      "source": [
        "### Loading the MNIST dataset\n",
        "Load the MNIST data set. The digits dataset is one of datasets scikit-learn comes with that do not require the downloading of any file from some external website. Use \n",
        "```\n",
        "mnist = sklearn.datasets.fetch_mldata('MNIST original')\n",
        "```\n",
        "to fetch the original data. You may set the `data_home` to where you wish to download your data for caching. Each image is already transformed into a 1D integer array $x\\in [0,255]^{784}$, and the corresponding label is an integer $y\\in [0,9]$.\n",
        "\n",
        "Plot a single sample of each digit as the original image, so you get a feeling how the data looks like.\n",
        "\n",
        "Finally, divide your data into train and test sets, using 1/7 of the data for testing.\n",
        "\n",
        "---\n",
        "**Note 1:** Using `digits = sklearn.datasets.load_digits()` will only fetch a very small sample of the original set, with images resized to 8x8. This preprocessing of the data reduces dimensionality and gives invariance to small distortions - however, we will use the original data in this exercise. Feel free to test the proformance of the algorithms below on the preprocessed data as well.\n",
        "\n",
        "**Note 2:**\n",
        "Since ML-Data is deprecated, you may wish to use something like this:\n",
        ">```\n",
        "from keras.datasets import mnist\n",
        "(x_train, y_train), (x_test, y_test) = mnist.load_data()\n",
        "x_train = x_train.reshape(x_train.shape[0], 784)\n",
        "x_test = x_test.reshape(x_test.shape[0], 784)\n",
        "```"
      ]
    },
    {
      "cell_type": "markdown",
      "metadata": {
        "id": "1gmZPhFAORc3"
      },
      "source": [
        "####Importing Packages"
      ]
    },
    {
      "cell_type": "markdown",
      "metadata": {
        "id": "oQ9cAFMXbGVm"
      },
      "source": [
        "Firstly, we will import the packages we need for each question in the assignment"
      ]
    },
    {
      "cell_type": "code",
      "metadata": {
        "id": "2z0Yrk_nMjhG"
      },
      "source": [
        "#import packages for first question\n",
        "import matplotlib.pyplot as plt\n",
        "from keras.datasets import mnist\n",
        "import numpy as np\n",
        "import pandas as pd\n",
        "from sklearn.naive_bayes import BernoulliNB , MultinomialNB\n",
        "from sklearn.metrics import confusion_matrix, accuracy_score , classification_report\n",
        "import sklearn.datasets\n",
        "import seaborn as sns\n",
        "from skimage.filters import threshold_mean\n",
        "\n",
        "#import packages for second question\n",
        "from sklearn.datasets import fetch_20newsgroups\n",
        "from sklearn.feature_extraction.text import CountVectorizer , TfidfVectorizer \n",
        "from sklearn.pipeline import make_pipeline\n",
        "from sklearn.base import BaseEstimator , ClassifierMixin\n",
        "from sklearn.model_selection import learning_curve\n"
      ],
      "execution_count": 19,
      "outputs": []
    },
    {
      "cell_type": "markdown",
      "metadata": {
        "id": "Cnwqe4kFOdJx"
      },
      "source": [
        "\n",
        "\n",
        "\n",
        "\n",
        "Then after, we would want to download the mnist data and explore it."
      ]
    },
    {
      "cell_type": "code",
      "metadata": {
        "id": "05Om0QLxBvvT",
        "colab": {
          "base_uri": "https://localhost:8080/"
        },
        "outputId": "1ec7d0d0-df9b-424b-958b-454d7b9e9a1e"
      },
      "source": [
        "#Loading data\n",
        "(x_train, y_train), (x_test, y_test) = mnist.load_data()"
      ],
      "execution_count": 20,
      "outputs": [
        {
          "output_type": "stream",
          "name": "stdout",
          "text": [
            "Downloading data from https://storage.googleapis.com/tensorflow/tf-keras-datasets/mnist.npz\n",
            "11493376/11490434 [==============================] - 0s 0us/step\n",
            "11501568/11490434 [==============================] - 0s 0us/step\n"
          ]
        }
      ]
    },
    {
      "cell_type": "code",
      "metadata": {
        "colab": {
          "base_uri": "https://localhost:8080/"
        },
        "id": "sADN_W65LSb2",
        "outputId": "ee755591-2e5b-4e75-bd0c-d97864ad7d94"
      },
      "source": [
        "#shape of dataset\n",
        "print('X_train: ' + str(x_train.shape))\n",
        "print('Y_train: ' + str(y_train.shape))\n",
        "print('X_test:  '  + str(x_test.shape))\n",
        "print('Y_test:  '  + str(y_test.shape))"
      ],
      "execution_count": 21,
      "outputs": [
        {
          "output_type": "stream",
          "name": "stdout",
          "text": [
            "X_train: (60000, 28, 28)\n",
            "Y_train: (60000,)\n",
            "X_test:  (10000, 28, 28)\n",
            "Y_test:  (10000,)\n"
          ]
        }
      ]
    },
    {
      "cell_type": "markdown",
      "metadata": {
        "id": "Gc0BEivwOxdk"
      },
      "source": [
        "As we can see from the shape of the data, the data is already splitted for 6/7 trainning data (60000) and 1/7 testing data (10000)."
      ]
    },
    {
      "cell_type": "markdown",
      "metadata": {
        "id": "EsWIGmiWbcWd"
      },
      "source": [
        "We would want to plot the images for a better understanding.\n",
        "\n",
        "We would plot the images from sklearn data set and also from the keras data set."
      ]
    },
    {
      "cell_type": "markdown",
      "metadata": {
        "id": "yHlwwRA_T297"
      },
      "source": [
        "####Plotting the digits from Sklearn data set"
      ]
    },
    {
      "cell_type": "code",
      "metadata": {
        "colab": {
          "base_uri": "https://localhost:8080/",
          "height": 130
        },
        "id": "V1hiuTA1SPld",
        "outputId": "d4edefd3-1a81-4ca8-eddd-a63765834eed"
      },
      "source": [
        "digits = sklearn.datasets.load_digits()\n",
        "\n",
        "_, axes = plt.subplots(nrows=1, ncols=10, figsize=(20, 6))\n",
        "for ax, image, label in zip(axes, digits.images, digits.target):\n",
        "    ax.set_axis_off()\n",
        "    ax.imshow(image, cmap=plt.cm.gray_r, interpolation=\"nearest\")\n",
        "    ax.set_title(\"Label: {}\".format(label))"
      ],
      "execution_count": 22,
      "outputs": [
        {
          "output_type": "display_data",
          "data": {
            "image/png": "[encoded data removed]",
            "text/plain": [
              "<Figure size 1440x432 with 10 Axes>"
            ]
          },
          "metadata": {}
        }
      ]
    },
    {
      "cell_type": "markdown",
      "metadata": {
        "id": "RHIXjvaKT-fn"
      },
      "source": [
        "####Plotting the digits from Keras data set"
      ]
    },
    {
      "cell_type": "code",
      "metadata": {
        "colab": {
          "base_uri": "https://localhost:8080/",
          "height": 278
        },
        "id": "dvYVdNCxQMFA",
        "outputId": "16b2732c-df0d-4f12-9b72-0a9ecbeec71d"
      },
      "source": [
        "num = 10\n",
        "images = x_train[:num]\n",
        "labels = y_train[:15]\n",
        "\n",
        "num_row = 2\n",
        "num_col = 5# plot images\n",
        "fig, axes = plt.subplots(num_row, num_col, figsize=(1.5*num_col,2*num_row))\n",
        "for i in range(num):\n",
        "    ax = axes[i//num_col, i%num_col]\n",
        "    ax.imshow(images[i], cmap='gray')\n",
        "    ax.set_title('Label: {}'.format(labels[i]))\n",
        "plt.tight_layout()\n",
        "plt.show()"
      ],
      "execution_count": 23,
      "outputs": [
        {
          "output_type": "display_data",
          "data": {
            "image/png": "[encoded data removed]",
            "text/plain": [
              "<Figure size 540x288 with 10 Axes>"
            ]
          },
          "metadata": {}
        }
      ]
    },
    {
      "cell_type": "markdown",
      "metadata": {
        "id": "BaODQCpObxt5"
      },
      "source": [
        "Lastly, as mentioned we would reshape each image in the data to (1,784) that we can work with it and run the model on it."
      ]
    },
    {
      "cell_type": "code",
      "metadata": {
        "id": "58EChRa6Osc2"
      },
      "source": [
        "#changing shape to 1 array\n",
        "x_train = x_train.reshape(x_train.shape[0], 784)\n",
        "x_test = x_test.reshape(x_test.shape[0], 784)"
      ],
      "execution_count": 24,
      "outputs": []
    },
    {
      "cell_type": "code",
      "metadata": {
        "colab": {
          "base_uri": "https://localhost:8080/"
        },
        "id": "wX2OPmD9a96H",
        "outputId": "aa086620-b807-4e5d-89e3-9d3c0496151e"
      },
      "source": [
        "#shape of dataset\n",
        "print('X_train: ' + str(x_train.shape))\n",
        "print('Y_train: ' + str(y_train.shape))\n",
        "print('X_test:  '  + str(x_test.shape))\n",
        "print('Y_test:  '  + str(y_test.shape))"
      ],
      "execution_count": 25,
      "outputs": [
        {
          "output_type": "stream",
          "name": "stdout",
          "text": [
            "X_train: (60000, 784)\n",
            "Y_train: (60000,)\n",
            "X_test:  (10000, 784)\n",
            "Y_test:  (10000,)\n"
          ]
        }
      ]
    },
    {
      "cell_type": "markdown",
      "metadata": {
        "id": "-E0K9qlZJg9B"
      },
      "source": [
        "###Preprocess Explanation\n",
        "After we have explored the data we have received, it can be noticed that the data is divided into 10 classes which each class represents a digit from 0 to 9.\n",
        "An image is divided into 28 by 28 pixels, and in order for us to work with it and run the algorithm we will make a dimension change so that we get a single vector with 784 Inputs.\n",
        "So after the preprocess we get a a vector contains vector that each built by the 784 features. Each feature represents a pixel in an image and 10 classes for representing the digits, where each row is a representation of an image by all its pixels."
      ]
    },
    {
      "cell_type": "markdown",
      "metadata": {
        "id": "WTGjjSKaFfE6"
      },
      "source": [
        "### Bernoulli Naive Bayes\n",
        "If we know how the digits are generated, then we know how to classify them (simply choose the digit class which will maximize the posterior probability) --- but which model should we use for describing the digits generation?\n",
        "\n",
        "In this part we will try a very simplified model of digits creation (which is obviously not the same as the \"real\" model), using a Naive Bayes over an underlying Bernoulli distribution --- that is, we will assume that given a digit class, the pixels of the images are the result of independent coin flips, each with its own \"head\" probability.\n",
        "\n",
        "Note that since we assume each pixl is either 0 (black) or 1 (white), we will need to adjust (preprocess) our data accrodingly (see below).\n",
        "\n",
        "So, the model is stated as follows:\n",
        "$$\n",
        "\\begin{align}\n",
        "\\text{Domain} && x \\in \\{0,1\\}^{784} \\\\\n",
        "\\text{Prior} && \\pi_j = \\Pr(y=j) \\\\\n",
        "\\text{Likelihood} && P_j(x) = \\Pr(x | y=j) \\\\\n",
        "\\end{align}\n",
        "$$\n",
        "\n",
        "Where for each $i\\in 0\\ldots 784$ it holds that\n",
        "$$\n",
        "P_{ji}(x_i) = \\Pr(x_i | y=j) =\n",
        "\\begin{cases}\n",
        "p_{ji} & \\text{if } x_i=1 \\\\\n",
        "1-p_{ji} & \\text{if } x_i=0 \\\\\n",
        "\\end{cases}\n",
        "$$\n"
      ]
    },
    {
      "cell_type": "markdown",
      "metadata": {
        "id": "WNjhD3IpL5bC"
      },
      "source": [
        "#### Question 1\n",
        "Write the classification rule based on this Naive Bayes model. \n",
        "How would you esitmate each of the parameters of the model based on the trainning data? \n",
        "Describe in text (preferably math notationns) the classification rule, and explain.\n",
        "\n",
        "**Bonus:** Think of edge cases which may effect your estimator in an undesired way."
      ]
    },
    {
      "cell_type": "markdown",
      "metadata": {
        "id": "sQSbIFrHJLjv"
      },
      "source": [
        "#### Answer 1\n",
        "\n",
        "We would like to classify the images into the given classes by using the naive bayes algorithm which is based on Bayesian probability.\n",
        "\n",
        "We using the Bernouli Naive bayes where we binarized the inputs to 0 and 1, where each value that is greater then 0 gets 1 and all the zeros stays the same.\n",
        "\n",
        "We would like to find the probability that image $x_i$ belongs to class c given the image $x_i$ - the posterior of the model.\n",
        "\n",
        "We model this question for the probability of\n",
        "\n",
        " $p (c | x) = p (c | p1,p2, ..., p784)$\n",
        "\n",
        "Where x is a picture we want to identidy to one of the classes.\n",
        "\n",
        " Because we flatten the pixel vector we get a 28x28 vector of size 784 - p1,p1,...,p784 are the inputs (features) for each pixel where we can get the values between 0 to 1 (we binarized the pixels values).\n",
        "\n",
        " c is the class we want to identidy represent the pictures of numbers between 0 to 9.\n",
        "\n",
        "Given image x, the probabilty of getting each of the classes is considered $p (c | x)$ so that the highest probability between the classes will be the value of the prediction, i.e.\n",
        "\n",
        "$prediction (x) = argmax (p (c | x))$\n",
        "\n",
        "\n",
        "Calculate $p (c | x)$ using the bayes law.\n",
        "\n",
        "$posterior = \\frac{Likelihood \\cdot prior}{predictor} =   P(c | x) = \\frac{P(x | c) \\cdot p(c)}{p(x)} = \\frac{P(x | c) \\cdot p(c)}{\\sum_{c}P(x | c) \\cdot p(c)} $\n",
        "\n",
        "We calculate $p(c)$ for each class, i.e. the probability that we will see group c in training data by counting appearances.\n",
        "We count for each class how many times it appearance and divide by the total sum.\n",
        "\n",
        "$Prior = P(c)$ = count(number of apperance of images digit) / count(total number of images)\n",
        "\n",
        "We calculate the $likelihhod = p (x | c)$ by a naive assumption that the features (pixels p1, p2, .. p784) are independent and we can calculate the likelhood according to the formula for each c:\n",
        "\n",
        "$ p(p_1,p_2,...,p_{784}|c) = p(p_1|c) \\cdot p(p_2|c) \\cdot \\cdot \\cdot p(p_{784}|c)$\n",
        "\n",
        "This is why the model is naive, as in some cases there are features that are dependent.\n",
        "\n",
        "we log this multipication to make the calculation easier (multipacation of a lot of probabilities will get a small value).\n",
        "\n",
        "$log(p(p_1,p_2,...,p_{784}|c)) = log(p(p_1|c)) + log(p(p_2|c)) + \\cdot \\cdot  + log(p(p_{784}|c))$\n",
        "\n",
        "$P(x)$ is constant for all values of c in $P(c|x)$ , so when we calcualte the argmax over it we can ignore $P(x)$.\n",
        "\n",
        "We left with calculating the $argmax_cP(x|c)P(c)$\n",
        "\n"
      ]
    },
    {
      "cell_type": "markdown",
      "metadata": {
        "id": "nOnkgDIXTMCQ"
      },
      "source": [
        "#### Question 2\n",
        "Run a Naive Bayes classifier on the training data and apply predictions on the test data. Use the [sklearn.naive_bayes.BernoulliNB](http://scikit-learn.org/stable/modules/generated/sklearn.naive_bayes.BernoulliNB.html) implementation (see the [source code for sklearn.naive_bayes](https://github.com/scikit-learn/scikit-learn/blob/master/sklearn/naive_bayes.py) for details).\n",
        "\n",
        "Remember we need to preprocess the data in this case such that each pixel would become either black (0) or white (1). For this, use the `binarize` parameter of the implementation. Set this value to $0$ (this is the default), which in this case would mean every pixel with non-zero value will be set to 1.\n",
        "\n",
        "1. Plot the mean image of each class (estimated $\\hat{p}_{ji}$) and generate one sample of each class (remember, you can do this since this is a generative model). You will need to access the `feature_log_prob_` attribute of the trained model.\n",
        "\n",
        "2. Plot the confusion matrix of your classifier, as claculated on the test data (it is recommended to use [sklearn.metrics.confusion_matrix](http://scikit-learn.org/stable/modules/generated/sklearn.metrics.confusion_matrix.html)). Calculate the total accuracy (fraction of correctly classified images), and summarize the results in your own words.\n",
        "\n",
        "3. Think of a way you can find the optimal threshold of the binarization part. **There is no need to actually perform this task --- just describe what you would have done.**\n"
      ]
    },
    {
      "cell_type": "markdown",
      "metadata": {
        "id": "ZKdsdegDWaO_"
      },
      "source": [
        "#### Answer 2\n"
      ]
    },
    {
      "cell_type": "markdown",
      "metadata": {
        "id": "O_ztC5Vr8ue-"
      },
      "source": [
        "###Running Bernouli Naive Bayes Model\n"
      ]
    },
    {
      "cell_type": "code",
      "metadata": {
        "id": "sdgrRFgmjnfY"
      },
      "source": [
        "nb_model = BernoulliNB(binarize = 0)\n",
        "nb_model.fit(x_train,y_train)\n",
        "predictions = nb_model.predict(x_test)"
      ],
      "execution_count": 26,
      "outputs": []
    },
    {
      "cell_type": "markdown",
      "metadata": {
        "id": "me97JJur82nX"
      },
      "source": [
        "###1. Plotting Mean Image for each class"
      ]
    },
    {
      "cell_type": "code",
      "metadata": {
        "colab": {
          "base_uri": "https://localhost:8080/",
          "height": 376
        },
        "id": "G4u3tksc6cug",
        "outputId": "a01749be-a984-45b1-ad33-26cc374ab983"
      },
      "source": [
        "#ploting mean image of each class\n",
        "num_row = 2\n",
        "num_col = 5# plot images\n",
        "fig, axes = plt.subplots(num_row, num_col, figsize=(2*num_col,3*num_row))\n",
        "for i in range(len(nb_model.feature_log_prob_)):\n",
        "    ax = axes[i//num_col, i%num_col]\n",
        "    ax.set_title('Label: {}'.format(i))\n",
        "    ax.imshow(nb_model.feature_log_prob_[i].reshape(28,28))\n",
        "plt.tight_layout()\n",
        "plt.show()"
      ],
      "execution_count": 137,
      "outputs": [
        {
          "output_type": "display_data",
          "data": {
            "image/png": "[encoded data removed]",
            "text/plain": [
              "<Figure size 720x432 with 10 Axes>"
            ]
          },
          "metadata": {}
        }
      ]
    },
    {
      "cell_type": "markdown",
      "metadata": {
        "id": "YSkml8XHn-iA"
      },
      "source": [
        "We can see from the plot each feature log probability for each class.\n",
        "Y and X axis represent the pixels size."
      ]
    },
    {
      "cell_type": "markdown",
      "metadata": {
        "id": "b4PqaQ8l88F-"
      },
      "source": [
        "###2. Calculating Confusion Matrix"
      ]
    },
    {
      "cell_type": "code",
      "metadata": {
        "id": "vNzJRNGRkSlX",
        "colab": {
          "base_uri": "https://localhost:8080/"
        },
        "outputId": "e3091050-86ff-4521-ebbd-3281b021c132"
      },
      "source": [
        "cm = confusion_matrix(y_test, predictions)\n",
        "print(f'Confusion Matrix result:\\n{cm}')\n",
        "print(f'\\nAccuracy score: {accuracy_score(y_test, predictions)}\\n')\n",
        "print(\"Accuracy score for each predicted class:\")\n",
        "for c in range(len(cm)):\n",
        "  print(f'Class({c}): {round(cm[c][c] / sum([j for j in [i for i in cm]])[c], 4)}')"
      ],
      "execution_count": 28,
      "outputs": [
        {
          "output_type": "stream",
          "name": "stdout",
          "text": [
            "Confusion Matrix result:\n",
            "[[ 887    0    4    7    2   41   16    1   22    0]\n",
            " [   0 1085   10    5    0    9    6    0   19    1]\n",
            " [  19    8  852   29   17    4   32   14   55    2]\n",
            " [   5   15   34  844    0   13    9   15   49   26]\n",
            " [   2    6    4    0  795    4   21    1   23  126]\n",
            " [  23   12    7  129   30  627   16    8   21   19]\n",
            " [  18   18   15    2   13   35  851    0    6    0]\n",
            " [   1   24   14    4   15    0    0  871   27   72]\n",
            " [  16   23   13   76   17   22    7    6  758   36]\n",
            " [   9   13    5    9   74    8    0   24   24  843]]\n",
            "\n",
            "Accuracy score: 0.8413\n",
            "\n",
            "Accuracy score for each predicted class:\n",
            "Class(0): 0.9051\n",
            "Class(1): 0.9012\n",
            "Class(2): 0.8894\n",
            "Class(3): 0.7638\n",
            "Class(4): 0.8255\n",
            "Class(5): 0.8218\n",
            "Class(6): 0.8883\n",
            "Class(7): 0.9266\n",
            "Class(8): 0.755\n",
            "Class(9): 0.7493\n"
          ]
        }
      ]
    },
    {
      "cell_type": "markdown",
      "metadata": {
        "id": "BiGbr8m79D6w"
      },
      "source": [
        "**Explanation:**\n",
        "\n",
        "We calculated the Confusion Matrix with the test's classes and the predictioned classes that returned from the classifier of our NB_Model. \n",
        "In this case we can see that the Matrix's results has got pretty good results, as we can see the big amount of classes we predicted successfully (on the diagonal). \n",
        "But despite that, we still can see specific cells that contain a big number of errors, for example when the classifier predicted class A instead of class B. It can help us to find some similarity between the classes or a specific misidentification that repeats itself. For example, in our Matrix, we can see 126 errors in the Matrix when the classifier predicted the number '9' instead of '4' (when the classifier succeeded 843 times to predict the number '9' correctly). From this example we can try to understand if there is a similarity between the visual look of the two numbers or that the classifier falls all the time in this case for a reason. \n",
        "By take a look at our results we can try to improve our model even more or making a decision about continuing to use the model (suspicion of non-compliance with our needs)!\n",
        "\n",
        "For the accuracy measure we have got a score of: 84.13% Which measures the number of possitive results divided by all the results (possitive and negative results). In other words, accuracy checks how often is the classifier correct.\n",
        "\n",
        "(Offhand remark: The more classes there are the less likely to predict correctly and can get a smaller value of accuracy)."
      ]
    },
    {
      "cell_type": "markdown",
      "metadata": {
        "id": "qiu0Y_no9Vk4"
      },
      "source": [
        "###3. Optimize threshold of the binarization part"
      ]
    },
    {
      "cell_type": "markdown",
      "metadata": {
        "id": "iN042aW9QB64"
      },
      "source": [
        "**Explanation:**\n",
        "\n",
        "We thought of a way to improve the parameter of binarization by calculating the average pixel in each image.\n",
        "In case the model can only have a single parameter for all the images, and there will be no possibility to use the threshold we found for each image then we will average the pixel averages in all the images and on that basis we will run the model.\n",
        "We will run a simulation where will will find the mean threshold and compare it to the accuracy level where the binarization = 0"
      ]
    },
    {
      "cell_type": "code",
      "metadata": {
        "id": "MSrT4iZzTTcr"
      },
      "source": [
        "thresh_lst = []\n",
        "\n",
        "for image in x_train:\n",
        "  image.reshape(28,28)\n",
        "  thresh = threshold_mean(image)\n",
        "  thresh_lst.append(thresh)\n",
        "\n",
        "thresh_avg = np.average(thresh_lst)\n",
        "\n",
        "nb_model = BernoulliNB(binarize = thresh_avg)\n",
        "nb_model.fit(x_train,y_train)\n",
        "predictions2 = nb_model.predict(x_test)\n"
      ],
      "execution_count": 29,
      "outputs": []
    },
    {
      "cell_type": "code",
      "metadata": {
        "id": "ckfjGbtWVsQx",
        "colab": {
          "base_uri": "https://localhost:8080/"
        },
        "outputId": "c9fe4512-23ca-46d4-8b75-8c0b6c97fcea"
      },
      "source": [
        "print(f'Accuracy binarization = 0 : {accuracy_score(y_test, predictions)}')\n",
        "print(f'Accuracy with average threshold : {accuracy_score(y_test, predictions2)}')\n",
        "print(f'Average binarization threshold : {np.round(thresh_avg)}')\n"
      ],
      "execution_count": 30,
      "outputs": [
        {
          "output_type": "stream",
          "name": "stdout",
          "text": [
            "Accuracy binarization = 0 : 0.8413\n",
            "Accuracy with average threshold : 0.8462\n",
            "Average binarization threshold : 33.0\n"
          ]
        }
      ]
    },
    {
      "cell_type": "markdown",
      "metadata": {
        "id": "15D0oO3FU5VD"
      },
      "source": [
        "As we can see we recieve better accuracy score with a binarization parameter = 33 ( average threshold between all images).\n",
        "\n",
        "Improvment by 0.49%"
      ]
    },
    {
      "cell_type": "markdown",
      "metadata": {
        "id": "lKSgnectrTJ1"
      },
      "source": [
        "## 2. Classifing Text Documents using Multinomial Naive Bayes\n",
        "In this exercise you will classify the \"20 newsgroups\" data set using your own naive bayes classifier and compare to the scikit learn built in version.\n",
        "\n",
        "The 20 newsgroups dataset comprises around 18000 newsgroups posts on 20 topics split in two subsets: one for training (or development) and the other one for testing (or for performance evaluation). The split between the train and test set is based upon messages posted before and after a specific date.\n",
        "\n",
        "### You task\n",
        "Implement the barebone class provided: `NaiveBayes(BaseEstimator, ClassifierMixin)` and implement its `fit`, `predict` and `predict_proba` methods.\n",
        "\n",
        "Then follow next anlysis guidlinnes using the implemented class for train and test classifier:\n",
        "* Load the **train** data using `from sklearn.datasets import fetch_20newsgroups`. remove headers, footers and quotes (see documentation)\n",
        "* Use `sklearn.feature_extraction.text import CountVectorizer` to count words (stop_words='english')\n",
        "* use `sklearn.pipeline.make_pipeline` to chain the vectroizer and model.\n",
        "* note: limit the vocuabolary size if you suffer memory issues\n",
        "* compare the accuracy over the **test** data. You can use `accuracy_score, classification_report`\n",
        "* compare to the built in `sklearn.naive_bayes.MultinomialNB`\n",
        "* compare to `TfidfVectorizer` preprocessing (you can use the built in model for doing the analysis)\n",
        "* plot the learning curve - is the model in the bias or variance regime (you can use the built in model for doing the analysis)\n",
        "* optimize performance in respect to vectorizer hyper parameters (e.g. max_features, max_df etc.).\n"
      ]
    },
    {
      "cell_type": "markdown",
      "metadata": {
        "id": "ErePY1ALymRj"
      },
      "source": [
        "###Downloading the data"
      ]
    },
    {
      "cell_type": "code",
      "metadata": {
        "id": "lRXRrbU2-pfC"
      },
      "source": [
        "#Downloading data\n",
        "data_train = fetch_20newsgroups(subset=\"train\", remove = ('headers', 'footers', 'quotes'))\n",
        "data_test = fetch_20newsgroups(subset=\"test\", remove = ('headers', 'footers', 'quotes'))\n",
        "\n",
        "#split to train data\n",
        "x_train = data_train.data\n",
        "y_train = data_train.target\n",
        "\n",
        "#split to test data\n",
        "x_test = data_test.data\n",
        "y_test = data_test.target"
      ],
      "execution_count": 31,
      "outputs": []
    },
    {
      "cell_type": "markdown",
      "metadata": {
        "id": "EDG-KVvCfu4S"
      },
      "source": [
        "###My Naive Bayes model"
      ]
    },
    {
      "cell_type": "code",
      "metadata": {
        "id": "OUTdr8M-us0m"
      },
      "source": [
        "from sklearn.base import BaseEstimator, ClassifierMixin\n",
        "\n",
        "class NaiveBayes(BaseEstimator, ClassifierMixin):\n",
        "#BaseEstimator and ClassifierMixin are imported from sklearn.base\n",
        "\n",
        "  def fit(self, x, y):\n",
        "\n",
        "    #calculating prior - p(c)\n",
        "    self.prior = np.bincount(y) / len(y)\n",
        "\n",
        "    self.V = x.shape[1] #size of vocabulary\n",
        "    num_of_docs = x.shape[0] # count of documents in x\n",
        "    num_of_classes = len(self.prior)\n",
        "    self.classes = {}\n",
        "    doc_matrix = x.toarray()\n",
        "\n",
        "    #running on all documnets\n",
        "    for i in range(num_of_docs):\n",
        "\n",
        "      curr_class = y[i] \n",
        "      curr_doc = doc_matrix[i]  \n",
        "\n",
        "      #if class not in the class dict, add counter and words array\n",
        "      if curr_class not in self.classes.keys():\n",
        "        self.classes[curr_class] = [0, np.zeros(self.V)] #initial for each class [counter , vector of words]\n",
        "  \n",
        "      #iterate on all words in corpus and add to words dict\n",
        "      for word in range(self.V):\n",
        "        \n",
        "        self.classes[curr_class][0] += curr_doc[word] # count(c)\n",
        "        self.classes[curr_class][1][word] += curr_doc[word] #count(w,c)\n",
        "\n",
        "    self.prob_dict = {}\n",
        "    #creating P(w|c)\n",
        "    for key in range(num_of_classes):\n",
        "      self.prob_dict[str(key)] = (self.classes[key][1] + 1) / (self.classes[key][0] + self.V)\n",
        "\n",
        "\n",
        "  def predict_log_proba(self, x):\n",
        "\n",
        "      probs = []\n",
        "      num_of_docs = x.shape[0]\n",
        "      #iterate on all the test documents and check log proba for each class \n",
        "      for i in range(num_of_docs):\n",
        "        log_prob = np.zeros(len(self.prior))\n",
        "\n",
        "        for curr_class in range(len(self.prior)):\n",
        "          p_c = self.prior[curr_class]\n",
        "          \n",
        "          mul_class = np.power(self.prob_dict[str(curr_class)], x[i])\n",
        "          log_prob[curr_class] = np.sum(np.log(mul_class[mul_class!=0])) + np.log(p_c) \n",
        "        probs.append(log_prob)\n",
        "\n",
        "      return probs\n",
        "\n",
        "  def predict(self, x):\n",
        "      probs = self.predict_log_proba(x.toarray())\n",
        "      y_pred = []\n",
        "      for i in range(x.shape[0]):\n",
        "        y_pred.append(np.argmax(probs[i]))\n",
        "\n",
        "      return y_pred\n",
        "\n",
        "  \n",
        "  "
      ],
      "execution_count": 34,
      "outputs": []
    },
    {
      "cell_type": "markdown",
      "metadata": {
        "id": "BXiObFzJbvSn"
      },
      "source": [
        "**Explanation for the model:**     \n",
        "\n",
        "We implemented Multinomial Naive Bayes model for the data we recieved.\n",
        "\n",
        "We implemented the function fit , predict_log_proba and predict.\n",
        "\n",
        "In the fit function we calcualted $p(w|c)$.\n",
        " We used the formula of $p(w|c) = \\frac{count(w,c) + 1} {count(c) + |V|} $ where\n",
        "$count(w,c)$ is the count of apperances of a word in a specific class.\n",
        "\n",
        "$count(c)$ - total number of words in class.\n",
        "\n",
        "$ |V| $ - size of vocaublary.\n",
        "\n",
        "We also calcualted $p(c) = \\frac{N_c}{N} $ for the probability of a class in th data.\n",
        "\n",
        "After we calculted the probability for a class and the probabilty of word in the document given the class in the fit function, we implement the predict_log_proba by calculating the probabilty of a class given the words in the document - $p(c|w) $ \n",
        "\n",
        "$p(c|w) = p(w|c) * p(c) $ for each class.\n",
        "\n",
        "we calculated the log probabilty beacuse we get better results by doing it (as we explained in the questions before).\n",
        "\n",
        "Lastly, we implement the predict function where we calculated the predicted class by doing argmax to find the class with the highest probabilty.\n",
        "\n",
        "\n",
        "\n",
        "\n",
        "\n",
        "\n",
        "\n"
      ]
    },
    {
      "cell_type": "markdown",
      "metadata": {
        "id": "TcVlqQ7WXMUF"
      },
      "source": [
        "**notice - For all the model comparisons we reduced the feature size to 5000 because of memory issues.**"
      ]
    },
    {
      "cell_type": "markdown",
      "metadata": {
        "id": "tBUSN1fBCavc"
      },
      "source": [
        "###Multinomial Naive Bayes model compared with CountVectorizer"
      ]
    },
    {
      "cell_type": "markdown",
      "metadata": {
        "id": "x-cN3LF9U45w"
      },
      "source": [
        "#####Our Naive Bayes model"
      ]
    },
    {
      "cell_type": "code",
      "metadata": {
        "colab": {
          "base_uri": "https://localhost:8080/"
        },
        "id": "AfdPO9-5V95-",
        "outputId": "bdf386af-6d24-4607-8805-58364dda6429"
      },
      "source": [
        "#Creating pipline for our Naive Bayes model with CountVectorizer\n",
        "pipe = make_pipeline(CountVectorizer(stop_words='english', max_features= 5000), NaiveBayes())\n",
        "\n",
        "#Fit pipline\n",
        "pipe.fit(x_train,y_train)\n",
        "\n",
        "#Make predictions\n",
        "y_pred = pipe.predict(x_test)\n",
        "\n",
        "#Accuracy score\n",
        "print(f'Accuracy score: {accuracy_score(y_test, y_pred)}')\n"
      ],
      "execution_count": 35,
      "outputs": [
        {
          "output_type": "stream",
          "name": "stdout",
          "text": [
            "Accuracy score: 0.5939989378651088\n"
          ]
        }
      ]
    },
    {
      "cell_type": "markdown",
      "metadata": {
        "id": "QJFc1cuqVDBG"
      },
      "source": [
        "####Sklearn Multinomial Naive Bayes model"
      ]
    },
    {
      "cell_type": "code",
      "metadata": {
        "colab": {
          "base_uri": "https://localhost:8080/"
        },
        "id": "hD2DCwicfd0h",
        "outputId": "9143423d-8621-4b91-d33a-62ac81b5bd5d"
      },
      "source": [
        "#Creating pipline for Skelran Multinomial Naive Bayes model with CountVectorizer\n",
        "pipe = make_pipeline(CountVectorizer(stop_words='english', max_features= 5000), MultinomialNB())\n",
        "\n",
        "#Fit pipline\n",
        "pipe.fit(x_train , y_train)\n",
        "\n",
        "#Make predictions\n",
        "y_pred = pipe.predict(x_test)\n",
        "\n",
        "#Accuracy score\n",
        "print(f'Accuracy score: {accuracy_score(y_test, y_pred)}')"
      ],
      "execution_count": 36,
      "outputs": [
        {
          "output_type": "stream",
          "name": "stdout",
          "text": [
            "Accuracy score: 0.5946627721720659\n"
          ]
        }
      ]
    },
    {
      "cell_type": "markdown",
      "metadata": {
        "id": "UX5wb0VzVR9z"
      },
      "source": [
        "As we  can see while running the two models with the CounterVectorizer we recieved almost the same results of accuracy.\n",
        "Our model recieved accuracy level of 59.39% where the sklearn model recieve the result of 59.46% - an 0.5% diffrence."
      ]
    },
    {
      "cell_type": "markdown",
      "metadata": {
        "id": "_rcU_R8VWN9b"
      },
      "source": [
        "###Multinomial Naive Bayes model compared with TfidfVectorizer"
      ]
    },
    {
      "cell_type": "markdown",
      "metadata": {
        "id": "UiFTpEjxW4q7"
      },
      "source": [
        "#####Our Naive Bayes model"
      ]
    },
    {
      "cell_type": "code",
      "metadata": {
        "colab": {
          "base_uri": "https://localhost:8080/"
        },
        "id": "0GLTwF2jVx_i",
        "outputId": "f0bf5593-c65d-41bb-ceca-d830eed1281b"
      },
      "source": [
        "#Creating pipline for our Naive Bayes model with TfidfVectorizer\n",
        "pipe = make_pipeline(TfidfVectorizer(stop_words='english', max_features= 5000), NaiveBayes())\n",
        "\n",
        "#Fit pipline\n",
        "pipe.fit(x_train,y_train)\n",
        "\n",
        "#Make predictions\n",
        "y_pred = pipe.predict(x_test)\n",
        "\n",
        "#Accuracy score\n",
        "print(f'Accuracy score: {accuracy_score(y_test, y_pred)}')\n"
      ],
      "execution_count": 37,
      "outputs": [
        {
          "output_type": "stream",
          "name": "stdout",
          "text": [
            "Accuracy score: 0.6505576208178439\n"
          ]
        }
      ]
    },
    {
      "cell_type": "markdown",
      "metadata": {
        "id": "BQ25mph9Wzkn"
      },
      "source": [
        "####Sklearn Multinomial Naive Bayes model"
      ]
    },
    {
      "cell_type": "code",
      "metadata": {
        "id": "lm_u9Z7rDAjK",
        "colab": {
          "base_uri": "https://localhost:8080/"
        },
        "outputId": "2e3af81b-05b0-441c-ff1e-34b223e00e2d"
      },
      "source": [
        "#Creating pipline for Skelran Multinomial Naive Bayes model with TfidfVectorizer\n",
        "pipe = make_pipeline(TfidfVectorizer(stop_words='english', max_features= 5000), MultinomialNB())\n",
        "\n",
        "#Fit pipline\n",
        "pipe.fit(x_train , y_train)\n",
        "\n",
        "#Make predictions\n",
        "y_pred = pipe.predict(x_test)\n",
        "\n",
        "#Accuracy score\n",
        "print(f'Accuracy score: {accuracy_score(y_test, y_pred)}')"
      ],
      "execution_count": 38,
      "outputs": [
        {
          "output_type": "stream",
          "name": "stdout",
          "text": [
            "Accuracy score: 0.6505576208178439\n"
          ]
        }
      ]
    },
    {
      "cell_type": "markdown",
      "metadata": {
        "id": "gu59lTz0Wb4T"
      },
      "source": [
        "As we can see while running the two models with the TfidfVectorizer we recieved identical results of accuracy.\n",
        "The two model have an accuracy level of 65%."
      ]
    },
    {
      "cell_type": "code",
      "metadata": {
        "id": "ZlUKPdtHM8vI"
      },
      "source": [
        "#Learning Curve\n",
        "\n",
        "pipe = make_pipeline(CountVectorizer(stop_words='english'), MultinomialNB())\n",
        "\n",
        "train_sizes, train_scores, test_scores = learning_curve(pipe, x_train, y_train, cv=5, scoring='neg_mean_squared_error', n_jobs=-1, train_sizes=np.linspace(0.1, 1.0, 10))\n",
        "\n",
        "train_mean = np.mean(train_scores, axis=1)\n",
        "train_std = np.std(train_scores, axis=1)\n",
        "\n",
        "test_mean = np.mean(test_scores, axis=1)\n",
        "test_std = np.std(test_scores, axis=1)"
      ],
      "execution_count": 50,
      "outputs": []
    },
    {
      "cell_type": "markdown",
      "metadata": {
        "id": "XI-E4KrzptfF"
      },
      "source": [
        "When using the learning_curve function we downloaded the dat a"
      ]
    },
    {
      "cell_type": "code",
      "metadata": {
        "colab": {
          "base_uri": "https://localhost:8080/",
          "height": 442
        },
        "id": "OeXjehUiM0FF",
        "outputId": "228fcbe6-9351-42fd-f87f-4067f2280007"
      },
      "source": [
        "\n",
        "# Plotting:\n",
        "plt.style.use('seaborn')\n",
        "plt.subplots(1, figsize=(6,6))\n",
        "plt.plot(train_sizes, -train_mean, '--',  label=\"Training error\")\n",
        "plt.plot(train_sizes, -test_mean, label=\"Cross-validation error\")\n",
        "plt.fill_between(train_sizes, -(train_mean - train_std), -(train_mean + train_std), alpha=0.2)\n",
        "plt.fill_between(train_sizes, -(test_mean - test_std), -(test_mean + test_std), alpha=0.2)\n",
        "plt.title(\"Learning Curve\", fontsize = 18, y = 1.03)\n",
        "plt.xlabel(\"Training Set Size\", fontsize = 14), plt.ylabel(\"MSE\", fontsize = 14), plt.legend(loc=\"best\")\n",
        "plt.tight_layout()\n",
        "plt.show()"
      ],
      "execution_count": 51,
      "outputs": [
        {
          "output_type": "display_data",
          "data": {
            "image/png": "[encoded data removed]",
            "text/plain": [
              "<Figure size 432x432 with 1 Axes>"
            ]
          },
          "metadata": {}
        }
      ]
    },
    {
      "cell_type": "markdown",
      "metadata": {
        "id": "FBmISCGVJDPq"
      },
      "source": [
        "Learning Curve usually refers to a plot of the prediction error vs. the training set size - how better does the model get at predicting the target as you increase the number of instances used to train it and how the increase effects the model's performance. In order for us to say that a model performs well, we would like to see a model that trained on more data samples, that the error score of the cross-validation will decrease, the data training's error will stay pretty low and the error level of both training and validation sets will get closer to each other (good bias-variance trade-off). We wish for both training and cross-validation to get closer to each other and for some desired performance error score (with low error rate).\n",
        "\n",
        "About the model's problematic forms:\n",
        "\n",
        "Overfitting – the model is relevant only to the training set. In practice, the model doesn’t predict well other data sets (sees this data as irrelevant), in our case, the cross-validation set. Can point to a high variance between the training samples to the rest of the data.\n",
        "\n",
        "Underfitting – isn’t a suitable model. It will be obvious as it will have poor performance on the training datasets and the rest of data sets (it happenes when the model is too simple and we need more complex model). Can point to a high bias. The data cannot fit the model.\n",
        "\n",
        "Analysis: In this case, we used the built-in model (MultinomialNB) for measuring the performance of the model by looking at the Learning Curve's plot. We do that with the learning_curve() function of sklearn. We are showing the error of the training and validation sets adjustment to the number of samples. For scoring the error rate in our function, we wanted to use: MSE. But, because of the problem to score it (not a scoring parameter), we approximate it by using negative MSE and flipping the signs of y-axis when plotting. From the plot we got, we can see that our training error is low and the distance between the differences of the error values, as we increase the amount of samples in training, get closer, but does not seem to intend to get too close. From looking at this it can be understood that our model fits the data training pretty well (low training error) and that the cross-validation data has a higher error and differance between the error score - indicates a model that is closer to being overfitting than underfitting. This means we have a low bias and high variance. However, we still can see an improvement of the cross-validation score when adding more training samples and the progress with bigger training data growth changes (not too overfitting).\n",
        "\n",
        "**Overall we got that the model is more inclined to a variance regime (even when the variance doesn't look that big).**"
      ]
    },
    {
      "cell_type": "markdown",
      "metadata": {
        "id": "8lcVPYF6BF5T"
      },
      "source": [
        "###Optimize Vectorizer parameters"
      ]
    },
    {
      "cell_type": "code",
      "metadata": {
        "id": "YNpWrQZcBJBm",
        "colab": {
          "base_uri": "https://localhost:8080/"
        },
        "outputId": "730d3d39-4e76-4136-ac68-57a4216e0fd1"
      },
      "source": [
        "#add code here\n",
        "#Creating pipline for Multinomial Naive Bayes model with CountVectorizer\n",
        "pipe = make_pipeline(CountVectorizer(stop_words='english',max_df = 500,min_df = 2 ), MultinomialNB())\n",
        "\n",
        "#Fit pipline\n",
        "pipe.fit(x_train , y_train)\n",
        "\n",
        "#Make predictions\n",
        "y_pred = pipe.predict(x_test)\n",
        "\n",
        "#Accuracy score\n",
        "print(f'Accuracy score: {accuracy_score(y_test, y_pred)}')"
      ],
      "execution_count": 62,
      "outputs": [
        {
          "output_type": "stream",
          "name": "stdout",
          "text": [
            "Accuracy score: 0.6609134360063728\n"
          ]
        }
      ]
    },
    {
      "cell_type": "markdown",
      "metadata": {
        "id": "G2Ozc2GB2M-z"
      },
      "source": [
        "As we can see while tuning the parameters we succedded to get better results.\n",
        "with max_df = 500 and min__df = 2 we get accuracy of 66%.\n",
        "\n",
        "We improved the model by 2.6% (66% - 63.4%)."
      ]
    },
    {
      "cell_type": "markdown",
      "metadata": {
        "id": "d1S_v22_vDCs"
      },
      "source": [
        "\n",
        "### Bonus I (5 points)\n",
        "#### Model interpretability\n",
        "Find the most important features for a **specific** decision of a NB classifier.\n",
        "Because the model has learned the prior $p(x_i|c)$ during the training, the contribution of an individual feature value can be easily measured by the posterior, $p(c|x_i)=p(c)p(x_i|c)/p(x_i)$\n",
        "Implement a function which gets a scikit-learn NB model as input and returns $P(c|x_i)$:\n",
        "\n",
        "`def calc_p_c_given_xi(model)`\n",
        "\n",
        "Hint: Use the following model properties:\n",
        "\n",
        "* `model.class_log_prior_`\n",
        "* `model.feature_log_prob_`\n",
        "\n",
        "Note: remember these are logs and you need to use np.exp and normalize to get $P(c|x_i)$ \n",
        "Another hint: use numpy built-in broadcasting property.\n",
        "\n",
        "* Use the interpretation to examine errors of the classifier where $\\hat{c}\\ne c$. Which top words support the correct class and which support the wrong class? You can use the `print_txt` below to color words."
      ]
    },
    {
      "cell_type": "code",
      "metadata": {
        "id": "WrTOhkHV9msW",
        "colab": {
          "base_uri": "https://localhost:8080/"
        },
        "outputId": "cff14f5e-698a-4040-e205-a2fa7cc437ef"
      },
      "source": [
        "import string\n",
        "def print_txt(txt, hot, cold):\n",
        "  \"\"\"\n",
        "  print the text, coloring hot and cold words with colors\n",
        "  \"\"\"\n",
        "  cold_color='\\x1b[41;37m{}\\x1b[0m'\n",
        "  hot_color='\\x1b[42;37m{}\\x1b[0m'\n",
        "  def color(token):\n",
        "    lower = str(token).lower()\n",
        "    lower = lower.replace('\\t','').replace('\\n','')\n",
        "    lower = lower.translate(string.punctuation)\n",
        "    if (lower in hot) and (lower in cold):\n",
        "      return mid_color.format(token)\n",
        "    elif lower in hot:\n",
        "      return hot_color.format(token)\n",
        "    elif lower in cold:\n",
        "      return cold_color.format(token)\n",
        "    else:\n",
        "      return token\n",
        "  colored_txt = \" \".join([color(token) for token in txt.split(' ')])\n",
        "  print(colored_txt)\n",
        "print_txt('This word support the first class but this the other', ['word'],['other'])"
      ],
      "execution_count": 155,
      "outputs": [
        {
          "output_type": "stream",
          "name": "stdout",
          "text": [
            "This \u001b[42;37mword\u001b[0m support the first class but this the \u001b[41;37mother\u001b[0m\n"
          ]
        }
      ]
    },
    {
      "cell_type": "code",
      "metadata": {
        "id": "9Vz_BLhZwI9U"
      },
      "source": [
        "# Implementationn for 1st bonus\n",
        "def calc_p_c_given_xi(model):\n",
        "\n",
        "  #get log probability for the features and the prior and using exponent to extract the probabilty of them\n",
        "  log_priors = model.class_log_prior_\n",
        "  priors = np.exp(log_priors) # p(c)\n",
        "  \n",
        "  f_log_proba = model.feature_log_prob_\n",
        "  f_proba = np.exp(f_log_proba) # p(w|c) - likelihood\n",
        "\n",
        "  #calculating p(x_i)\n",
        "  p_xi = np.multiply(priors,f_proba.T)\n",
        "  p_x = np.sum(p_xi)\n",
        "\n",
        "  probs = [] # result\n",
        "\n",
        "  for i in range(len(priors)): # calculate probabilty for each word -> p(x_i | c) * p(c) \n",
        "    probs.append(priors[i]*f_proba[i]/p_x)\n",
        "\n",
        "    return probs"
      ],
      "execution_count": 199,
      "outputs": []
    },
    {
      "cell_type": "code",
      "metadata": {
        "id": "g08M956TzxCc"
      },
      "source": [
        "#setting new pipe\n",
        "pipe = make_pipeline(TfidfVectorizer(stop_words='english', max_features= 5000), MultinomialNB())\n",
        "pipe.fit(x_train, y_train)\n",
        "\n",
        "#extracting model\n",
        "model = pipe.get_params()['multinomialnb']\n",
        "\n",
        "#extracting the features names\n",
        "features_names = pipe.get_params()['tfidfvectorizer'].get_feature_names_out()\n",
        "\n",
        "#setting a list for the hot and cold words for the print_txt function\n",
        "hot_words = set()\n",
        "cold_words = set()\n",
        "\n",
        "#using the function we built to calculate the probabilities\n",
        "probs = calc_p_c_given_xi(model)\n",
        "\n",
        "#calculating the mean thresh for separating hot and cold words\n",
        "mean_thresh_lst = []\n",
        "for p in probs:\n",
        "  mean_thresh_lst.append(np.average(p))\n",
        "mean_thresh = np.average(mean_thresh_lst)\n",
        "\n",
        "#separting the words by each word probabilty\n",
        "for i in range(len(probs)):\n",
        "  for j in range(len(probs[i])):\n",
        "    p_w = probs[i][j]\n",
        "    if p_w < mean_thresh:\n",
        "      cold_words.add(names[j])\n",
        "    else:\n",
        "      hot_words.add(names[j])\n",
        "    \n"
      ],
      "execution_count": 203,
      "outputs": []
    },
    {
      "cell_type": "code",
      "metadata": {
        "colab": {
          "base_uri": "https://localhost:8080/"
        },
        "id": "jE0rm_Cg1HZD",
        "outputId": "0778f98d-d7db-46b1-bf83-6fa3905484f3"
      },
      "source": [
        "print_txt(x_train[24], hot_words, cold_words)"
      ],
      "execution_count": 204,
      "outputs": [
        {
          "output_type": "stream",
          "name": "stdout",
          "text": [
            "I don't \u001b[42;37mknow\u001b[0m about the \u001b[42;37mspecific\u001b[0m \u001b[42;37mproblem\u001b[0m \u001b[42;37mmentioned\u001b[0m in your\n",
            "message, but I \u001b[42;37mdefinitely\u001b[0m had \u001b[41;37mSCSI\u001b[0m \u001b[42;37mproblems\u001b[0m between my\n",
            "Q700 and my venerable Jasmine Megadrive \u001b[41;37m10\u001b[0m cartridge\n",
            "drives.  My \u001b[42;37msolution\u001b[0m was to get Silverlining.  None of\n",
            "the loops that \u001b[42;37minvolved\u001b[0m \u001b[42;37mblind\u001b[0m \u001b[42;37mwrites\u001b[0m \u001b[41;37mworked\u001b[0m to the drives;\n",
            "in \u001b[42;37mfact\u001b[0m the only \u001b[41;37mloop\u001b[0m that \u001b[41;37mworked\u001b[0m was the \"Macintosh\n",
            "Software\" \u001b[41;37mloop\u001b[0m (whatever that means).\n"
          ]
        }
      ]
    },
    {
      "cell_type": "markdown",
      "metadata": {
        "id": "JsUw0YlxNod1"
      },
      "source": [
        "When we use the function we get the affect by the probability of each word in a document.\n",
        "We classify by a mean threshold of all the probabilities for all the document so we can classify for hot and cold words."
      ]
    },
    {
      "cell_type": "markdown",
      "metadata": {
        "id": "kww6g1jGv_Fw"
      },
      "source": [
        "### Bonus II (5 points)\n",
        "#### How can you correct the analyzed error?\n",
        "\n",
        "To read more about model interpretation, see the blogpost below and the tutorial:\n",
        "* https://lilianweng.github.io/lil-log/2017/08/01/how-to-explain-the-prediction-of-a-machine-learning-model.html\n",
        "* https://github.com/chanansh/right_but_why"
      ]
    },
    {
      "cell_type": "markdown",
      "metadata": {
        "id": "K4QrAGdiwD6f"
      },
      "source": [
        "Answer for 2nd bonus"
      ]
    },
    {
      "cell_type": "markdown",
      "metadata": {
        "id": "iM45O-ZHOLsV"
      },
      "source": [
        "There are several ways we can correct the analyzed error after running it.\n",
        "As we did it bonus 1 we can get the features affect by calculating the posterior and choose only features that are affecting our model more then others.\n",
        "\n",
        "Furthermore, We can try to affect the variance - bias tradeoff by tuning the paramethers of the model.\n",
        "\n",
        "We can try to collect more data to get a bigger sample size for a better accuracy.\n",
        "\n",
        "Lastly, we can try add more undepended parameters for the model and try to see if the new model gets better results.\n",
        "\n",
        "\n"
      ]
    }
  ]
}